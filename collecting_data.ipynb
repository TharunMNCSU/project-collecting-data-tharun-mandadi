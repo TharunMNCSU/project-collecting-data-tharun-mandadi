{
 "cells": [
  {
   "cell_type": "markdown",
   "metadata": {},
   "source": [
    "# Collecting Data\n",
    "\n",
    "The foundation of your project will be to collect appropriate data for the problem you are trying to solve. There is incredible versatility in how you can use an machine learning model. Some examples might be to predict the next social media trend, categorizing cancer cells, trying to better understand the relationship between temperature fluctuations and coffee bean growth rates, or creating a chat bot.\n",
    "\n",
    "Since we are very early in this course, and - most likely at this point - have not discussed many models, it may be difficult to know what you can do with a dataset, or what is in scope of this course. So by the nature of the course title \"Exploring Machine Learning\" we will take an explorative approach to your project. \n",
    "\n",
    "The goal of this part of the project is to explore what data sets you might be interested in, below will be questions to help guide you to selecting a category of data that you want to further explore."
   ]
  },
  {
   "cell_type": "markdown",
   "metadata": {},
   "source": [
    "## Identifying what data you want to explore\n",
    "\n",
    "Data is everywhere and there seems to be data on about anything. You might know exactly what you want to dive deeper into or you might have no idea. Either way I invite you answer the questions below.\n",
    "\n",
    "Below create a python dictionary with the key being a short summary of the topic of interest, while the value is an explanation of your interest - such as why you are interested in this topic, or why do you feel a strong passion to understand this topic. A topic of interest could be research you are conducting, a topic you are studying at your job, hobbies you have or topics surrounding your identities.\n",
    "\n",
    "List 5 topics, and for each topic put at least a 50 word description.\n",
    "\n",
    "For example I might put:\n",
    "\n",
    "```python\n",
    "interests = {\n",
    "    \"Cats\" : \"I have two cats at home, they are basically my children. I would generally like to learn more about cat behavior, health trends and pet owner behavior. It may be interesting to also see industry trends of cat owner, or how they compare to dog owners. Maybe later I want to start to write an app that recognizes cat breeds\",\n",
    "\n",
    "    \"Scuba\" : \"The study of scuba diving seems to be a 'soft' science, and there are general guidelines on when and how long you should do safety stops to avoid getting decompression sickness. Could there be links to human anatomy or behavior on how deep a person should go safely during a dive?\",\n",
    "}\n",
    "```"
   ]
  },
  {
   "cell_type": "code",
   "execution_count": 6,
   "metadata": {},
   "outputs": [],
   "source": [
    "# Do not edit the name of this function, it will be used for grading\n",
    "def what_are_topics_you_are_interested_in():\n",
    "    interests = {\"Housing Markets\" : \"I would like to get some insights on housing market. \\\n",
    "                 Housing markets data analysis involves examining trends in property prices, sales volumes, rental rates, and economic factors affecting real estate markets.\\\n",
    "                 It helps identify patterns, predict future market conditions, and assess investment opportunities. \\\n",
    "                 use statistical methods, machine learning, and economic indicators to understand housing supply, demand, and affordability trends. This will give better insights into the current housing market\",\n",
    "                 \"Portfolio Optimuzation\" : \"Portfolio optimization data analysis focuses on balancing risk and return by selecting an optimal mix of assets. \\\n",
    "                 It involves analyzing historical prices, financial ratios, economic indicators, and other factors to maximize returns while minimizing risk. \\\n",
    "                 Techniques include mean-variance optimization, factor models, and diversification across asset classes like stocks, bonds, and commodities. This will give better insights into the markets\",\n",
    "                 \"Crypto Currency\" : \"Cryptocurrency data analysis involves examining historical and real-time data from digital currencies like Bitcoin and Ethereum. \\\n",
    "                 Analysts use tools like Python and statistical models to analyze historical price data, market sentiment, and blockchain metrics, helping investors optimize strategies, manage risk, and make informed decisions in the volatile crypto markets. This will give better insights into the crypto markets\",\n",
    "                 \"Stock Price Analysis\" : \"Stock price analysis involves examining historical and real-time stock market data to identify trends, assess performance, and predict future price movements.\\\n",
    "                 This analysis includes evaluating price patterns, volatility, trading volume, and market indicators to make informed investment decisions.\\\n",
    "                 Techniques such as technical analysis and fundamental analysis are commonly used. Using this we try to establish the relation historical Stock Prices\",\n",
    "                 \"Cost Of Living\" : \"Cost of living data analysis involves evaluating the prices of essential goods and services such as housing, food, healthcare, and transportation across different regions.\\\n",
    "                 By comparing these costs, analysts can assess affordability, track inflation trends,\\\n",
    "                 and inform decisions on wages, investments, and policy-making for various demographics and locations. Using this data we play to map the cost of living of various places\",\n",
    "                 \"Animal Polulation Count\" : \"Animal population count data analysis involves assessing the number and distribution of species within specific habitats over time. \\\n",
    "                 By analyzing data from sources like wildlife surveys, camera traps, and databases, researchers can identify population changes, track endangered species, \\\n",
    "                 This analysis helps inform wildlife management decisions, understand ecological dynamics,\\\n",
    "                and identify endangered species, contributing to global conservation efforts and ecosystem sustainability.\"} # Fill out your interests\n",
    "    return interests\n",
    "# Note: you can use the \\ symbol to continue your string to the next line, this makes \n",
    "# things look a bit prettier\n",
    "# Example:\n",
    "#print(\"This is an \\\n",
    " #     extended string \")"
   ]
  },
  {
   "cell_type": "markdown",
   "metadata": {},
   "source": [
    "## Do datasets exist for my interests?\n",
    "\n",
    "There is lots of data out there but not for everything. Below are some websites where you can take a look at available datasets. Go ahead and search for datasets related to your topic. Are there many data sets surrounding your topic? Are there many different types of data like categorical, regression, images, etc? If there are limited data sets, do you feel comfortable with the challenge of creating your own data? (Note creating your own data set to supplement existing datasets will increase your score on this assignment)\n",
    "\n",
    "> You can find a link to databases on the course page!\n",
    "\n",
    "For 3 of your topics find 3 databases you might want to use for your project. Below create a dictionary with the keys being the topic values you listed above and the value a link of 3 data bases you would like to explore. If you would like to make your own data too make add a string \"Create my own data\" to the end of the list\n",
    "\n",
    "Note, if you have trouble finding datasets for your topic you can make your dataset more general, or try a different topic. For example for my \"Cats\" topic I could expand it to \"Pets\", \"Pet Toy Sales\" or \"Pet Health Benefits\"\n",
    "\n",
    "You can always change your topic and dataset later, so don't feel that these decisions are permanent.\n",
    "\n",
    "While searching did it generate any ideas on interests or data sets you would like to explore? - If so you can add or replace a topic to the dictionary above!\n",
    "\n",
    "\n",
    "Example\"\n",
    "\n",
    "```python\n",
    "datasets = {\n",
    "    \"Cats\" : [\"https://www.kaggle.com/datasets/ma7555/cat-breeds-dataset\", \"https://example.com\", \"https://example.com\", \"Create my own data\"],\n",
    "\n",
    "    \"Second Topic\": [\"https://example.com\", \"https://example.com\", \"https://example.com\"],\n",
    "    \n",
    "    \"Third Topic\" : [\"https://example.com\", \"https://example.com\", \"https://example.com\"]\n",
    "}\n",
    "```\n"
   ]
  },
  {
   "cell_type": "code",
   "execution_count": null,
   "metadata": {},
   "outputs": [],
   "source": [
    "import requests\n",
    "import yfinance as yf\n",
    "import quandl\n",
    "from iexfinance.stocks import get_historical_data\n",
    "from datetime import datetime\n",
    "\n",
    "start = datetime(2020, 1, 1)\n",
    "end = datetime(2023, 1, 1)\n",
    "tickers = ['AAPL', 'MSFT', 'GOOGL']\n",
    "api_key = '6040059774e19a5421e8bba5c266dcb8'\n",
    "api_key2 = 'YOUR_ZILLOW_API_KEY'\n",
    "def find_some_datasets():\n",
    "    datasets = {\"Housing Market\" : [\"f'http://api.scraperapi.com?api_key={api_key}&url=https://www.redfin.com/city/30749/CA/Los-Angeles'\", \"https://api.census.gov/data/2020/dec/pl?get=NAME,H001001&for=state:*\", \"zillow_url = f'https://www.zillow.com/webservice/GetSearchResults.htm?zws-id={api_key2}&address=2114+Bigelow+Ave&citystatezip=Seattle%2C+WA'\"],\n",
    "                \"Portfolio Optimization\" : [\"yf.download(tickers, start='2020-01-01', end='2023-01-01')['Adj Close']\", \"https://mba.tuck.dartmouth.edu/pages/faculty/ken.french/ftp/F-F_Research_Data_Factors_daily_CSV.zip\", \"https://home.treasury.gov/sites/default/files/interest-rates/yield.csv\"],\n",
    "                \"Crypto Currency\" : [\"'https://api.coingecko.com/api/v3/coins/bitcoin/market_chart'\", \"'https://min-api.cryptocompare.com/data/v2/histoday'\", \"'https://api.binance.com/api/v3/klines'\",\"'https://pro-api.coinmarketcap.com/v1/cryptocurrency/listings/latest'\"],\n",
    "                \"Stock Price analysis\" : [\"quandl.get('WIKI/AAPL')\", \"yf.download('AAPL', start='2020-01-01', end='2023-01-01')\", \"zillow_url = get_historical_data('AAPL', start=start, end=end, token='YOUR_IEX_CLOUD_API_KEY')\"],\n",
    "                \"Cost Of Living\" : [\"f'https://www.numbeo.com/api/cost_of_living?api_key={api_key}&query=New+York'\", \"'http://api.worldbank.org/v2/en/indicator/FP.CPI.TOTL?downloadformat=csv'\", \"'https://stats.oecd.org/sdmx-json/data/DP_LIVE/.CPI.TOT.PC_CHG.AUS?contentType=csv&detail=code&separator=comma&csv-lang=en'\", \"https://www.kaggle.com/datasets/myrios/cost-of-living-index-by-country-by-number-2024\"],\n",
    "                \"Animal Population Count\" : [\"https://archive.ics.uci.edu/ml/machine-learning-databases/zoo/zoo.data\", \"f'https://www.ncdc.noaa.gov/cdo-web/api/v2/datasets'\", \"https://ebird.org/data/download/country/US\"]  }\n",
    "    return datasets"
   ]
  },
  {
   "cell_type": "markdown",
   "metadata": {},
   "source": [
    "## Asking questions about your dataset\n",
    "\n",
    "Some questions you might want to ask for each dataset are:\n",
    "- Who created this dataset?\n",
    "- When was this dataset created?\n",
    "- Could there be any biases when creating this dataset?\n",
    "- How was this data collected?\n",
    "- Is this data representative of the problem I am trying to solve?\n"
   ]
  }
 ],
 "metadata": {
  "kernelspec": {
   "display_name": "Python 3",
   "language": "python",
   "name": "python3"
  },
  "language_info": {
   "codemirror_mode": {
    "name": "ipython",
    "version": 3
   },
   "file_extension": ".py",
   "mimetype": "text/x-python",
   "name": "python",
   "nbconvert_exporter": "python",
   "pygments_lexer": "ipython3",
   "version": "3.10.9"
  }
 },
 "nbformat": 4,
 "nbformat_minor": 2
}
